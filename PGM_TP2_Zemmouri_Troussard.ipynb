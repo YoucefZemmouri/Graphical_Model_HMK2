{
 "cells": [
  {
   "cell_type": "markdown",
   "metadata": {},
   "source": [
    "# Importation of packages and data"
   ]
  },
  {
   "cell_type": "code",
   "execution_count": 1,
   "metadata": {
    "collapsed": true
   },
   "outputs": [],
   "source": [
    "import numpy as np\n",
    "import pandas as pd\n",
    "import matplotlib.pyplot as plt\n",
    "import random\n",
    "from numpy.linalg import det, inv\n",
    "from mpl_toolkits.mplot3d import Axes3D\n",
    "from scipy.stats import chi2, norm\n",
    "from matplotlib.patches import Ellipse, Circle\n",
    "\n",
    "%matplotlib inline"
   ]
  },
  {
   "cell_type": "code",
   "execution_count": 2,
   "metadata": {
    "collapsed": true
   },
   "outputs": [],
   "source": [
    "EM_data = pd.read_csv(\"EMGaussian.data\",sep=\" \",names=[\"X1\",\"X2\"])\n",
    "EM_test = pd.read_csv(\"EMGaussian.test\",sep=\" \",names=[\"X1\",\"X2\"])"
   ]
  },
  {
   "cell_type": "code",
   "execution_count": 3,
   "metadata": {
    "collapsed": true
   },
   "outputs": [],
   "source": [
    "K = 4\n",
    "d = 2"
   ]
  },
  {
   "cell_type": "markdown",
   "metadata": {},
   "source": [
    "# Data vizualisation "
   ]
  },
  {
   "cell_type": "code",
   "execution_count": 4,
   "metadata": {
    "collapsed": true
   },
   "outputs": [],
   "source": [
    "Colors = {0:\"red\",1:\"blue\",2:\"green\",3:\"yellow\"}"
   ]
  },
  {
   "cell_type": "code",
   "execution_count": 5,
   "metadata": {
    "collapsed": true
   },
   "outputs": [],
   "source": [
    "def visualize(data, labels, centr):\n",
    "    color = [Colors[l] for l in labels]\n",
    "    plt.scatter(data.X1, data.X2, color=color)\n",
    "    \n",
    "    axes = plt.gca()\n",
    "    axes.set_xlim([data.X1.min()-1,data.X1.max()+1])\n",
    "    axes.set_ylim([data.X2.min()-1,data.X2.max()+1])\n",
    "    plt.axis('equal')\n",
    "    \n",
    "    plt.scatter(centr.T.X1, centr.T.X2, color=\"black\")"
   ]
  },
  {
   "cell_type": "code",
   "execution_count": 6,
   "metadata": {
    "collapsed": true
   },
   "outputs": [],
   "source": [
    "def vizualise_circles(data, labels, centr, sigmas):\n",
    "    color = [Colors[l] for l in labels]\n",
    "    plt.scatter(data.X1, data.X2, color=color)\n",
    "\n",
    "    origin = np.array([0,1])\n",
    "    ellipses_plot = plt.subplot()\n",
    "    for k in range(K):\n",
    "        ellipse = Circle(mu[k],norm.ppf(0.9)*np.sqrt(sigmas[k]),fill=False)\n",
    "        ellipses_plot.add_artist(ellipse)\n",
    "        \n",
    "    plt.scatter(centr.T.X1, centr.T.X2, color=\"black\")\n",
    "\n",
    "    axes = plt.gca()\n",
    "    axes.set_xlim([data.X1.min()-1,data.X1.max()+1])\n",
    "    axes.set_ylim([data.X2.min()-1,data.X2.max()+1])\n",
    "    plt.axis('equal')\n",
    "    plt.show()"
   ]
  },
  {
   "cell_type": "code",
   "execution_count": 7,
   "metadata": {
    "collapsed": true
   },
   "outputs": [],
   "source": [
    "def vizualise_ellipses(data, labels, centr, cov):\n",
    "    color = [Colors[l] for l in labels]\n",
    "    plt.scatter(data.X1, data.X2, color=color)\n",
    "\n",
    "    origin = np.array([0,1])\n",
    "    ellipses_plot = plt.subplot()\n",
    "    for k in range(K):\n",
    "        ev = np.linalg.eig(cov[k])[0]\n",
    "        EV = np.linalg.eig(cov[k])[1]\n",
    "        angle = np.degrees(np.arccos(origin.dot(EV[1])))\n",
    "\n",
    "        ellipse = Ellipse((mu[k]), 2*np.sqrt(chi2.ppf(0.9, 2)*ev[0]), 2*np.sqrt(chi2.ppf(0.9, 2)*ev[1]), angle,fill=False)\n",
    "        ellipses_plot.add_artist(ellipse)\n",
    "        \n",
    "    plt.scatter(centr.T.X1, centr.T.X2, color=\"black\")\n",
    "\n",
    "    axes = plt.gca()\n",
    "    axes.set_xlim([data.X1.min()-1,data.X1.max()+1])\n",
    "    axes.set_ylim([data.X2.min()-1,data.X2.max()+1])\n",
    "    plt.axis('equal')\n",
    "    plt.show()"
   ]
  },
  {
   "cell_type": "markdown",
   "metadata": {},
   "source": [
    "# K-means"
   ]
  },
  {
   "cell_type": "code",
   "execution_count": 8,
   "metadata": {
    "collapsed": true
   },
   "outputs": [],
   "source": [
    "def error_kmeans(data,nbClusters,labels,centroids):\n",
    "    err = 0\n",
    "    for k in range(nbClusters):\n",
    "        err = err + ((data[labels == k] - centroids[k])**2).sum(1).sum()\n",
    "    return err/data.index.size"
   ]
  },
  {
   "cell_type": "code",
   "execution_count": 9,
   "metadata": {
    "collapsed": true
   },
   "outputs": [],
   "source": [
    "def kmeans(data, nbClusters, graph):\n",
    "    # Initialization step\n",
    "    init_idx = random.sample(range(1, data.index.size), K)\n",
    "    centroids = data.T[init_idx]\n",
    "    centroids.columns = range(nbClusters)\n",
    "    centroids_old = centroids+1 # To make it different from \"centroids\"\n",
    "    \n",
    "    while ((centroids_old.equals(centroids)) == False):\n",
    "        centroids_old = centroids.copy()\n",
    "\n",
    "        # Assignment to closest centroid\n",
    "        Distances = pd.DataFrame()\n",
    "        for k in range(nbClusters):\n",
    "            Dist_to_k = ((data - centroids[k])**2).sum(axis=1)\n",
    "            Dist_to_k.name = k\n",
    "            Distances = pd.concat([Distances,Dist_to_k],axis=1)\n",
    "            \n",
    "        data_labels = Distances.idxmin(1)\n",
    "\n",
    "        # Computation of new centroids\n",
    "        for k in range(nbClusters):\n",
    "            centroids[k] = data[data_labels == k].mean()\n",
    "\n",
    "    if graph:\n",
    "        visualize(data,data_labels,centroids)\n",
    "        \n",
    "    return centroids, data_labels"
   ]
  },
  {
   "cell_type": "code",
   "execution_count": 10,
   "metadata": {},
   "outputs": [],
   "source": [
    "centroids, data_labels = kmeans(data=EM_data, nbClusters=K, graph=False)"
   ]
  },
  {
   "cell_type": "code",
   "execution_count": 11,
   "metadata": {},
   "outputs": [
    {
     "data": {
      "image/png": "[encoded data removed]",
      "text/plain": [
       "<matplotlib.figure.Figure at 0x1a0fcce438>"
      ]
     },
     "metadata": {},
     "output_type": "display_data"
    }
   ],
   "source": [
    "visualize(EM_data,data_labels,centroids)"
   ]
  },
  {
   "cell_type": "code",
   "execution_count": 12,
   "metadata": {},
   "outputs": [
    {
     "data": {
      "text/plain": [
       "6.481186049491023"
      ]
     },
     "execution_count": 12,
     "metadata": {},
     "output_type": "execute_result"
    }
   ],
   "source": [
    "error_kmeans(EM_data,K,data_labels,centroids)"
   ]
  },
  {
   "cell_type": "code",
   "execution_count": 47,
   "metadata": {},
   "outputs": [
    {
     "data": {
      "text/plain": [
       "count    1000.000000\n",
       "mean        6.541558\n",
       "std         0.625532\n",
       "min         6.475337\n",
       "25%         6.475559\n",
       "50%         6.480347\n",
       "75%         6.481186\n",
       "max        12.768531\n",
       "dtype: float64"
      ]
     },
     "execution_count": 47,
     "metadata": {},
     "output_type": "execute_result"
    }
   ],
   "source": [
    "err = {}\n",
    "for i in range(1000):\n",
    "    centroids, data_labels = kmeans(data=EM_data, nbClusters=K, graph=False)\n",
    "    err[i] = error_kmeans(EM_data,K,data_labels,centroids)\n",
    "pd.Series(err).describe()"
   ]
  },
  {
   "cell_type": "code",
   "execution_count": 49,
   "metadata": {},
   "outputs": [],
   "source": [
    "Case1 = pd.Series(err)[pd.Series(err) < 10]"
   ]
  },
  {
   "cell_type": "code",
   "execution_count": 50,
   "metadata": {
    "collapsed": true
   },
   "outputs": [],
   "source": [
    "Case2 = pd.Series(err)[pd.Series(err) > 10]"
   ]
  },
  {
   "cell_type": "code",
   "execution_count": 51,
   "metadata": {},
   "outputs": [
    {
     "data": {
      "text/plain": [
       "count    990.000000\n",
       "mean       6.478721\n",
       "std        0.002596\n",
       "min        6.475337\n",
       "25%        6.475559\n",
       "50%        6.480347\n",
       "75%        6.481186\n",
       "max        6.482566\n",
       "dtype: float64"
      ]
     },
     "execution_count": 51,
     "metadata": {},
     "output_type": "execute_result"
    }
   ],
   "source": [
    "Case1.describe()"
   ]
  },
  {
   "cell_type": "code",
   "execution_count": 52,
   "metadata": {},
   "outputs": [
    {
     "data": {
      "text/plain": [
       "count    10.000000\n",
       "mean     12.762356\n",
       "std       0.005314\n",
       "min      12.758240\n",
       "25%      12.758240\n",
       "50%      12.758240\n",
       "75%      12.768531\n",
       "max      12.768531\n",
       "dtype: float64"
      ]
     },
     "execution_count": 52,
     "metadata": {},
     "output_type": "execute_result"
    }
   ],
   "source": [
    "Case2.describe()"
   ]
  },
  {
   "cell_type": "markdown",
   "metadata": {},
   "source": [
    "# Gaussian mixture model"
   ]
  },
  {
   "cell_type": "markdown",
   "metadata": {},
   "source": [
    "## Useful functions"
   ]
  },
  {
   "cell_type": "code",
   "execution_count": 15,
   "metadata": {
    "collapsed": true
   },
   "outputs": [],
   "source": [
    "def gauss(x,mu,Sigma,dim):\n",
    "    C_norm = 1/np.sqrt(((2*np.pi)**dim)*det(Sigma))\n",
    "    \n",
    "    temp = (x-mu).dot(inv(Sigma))\n",
    "    if len(x.shape) > 1:\n",
    "        temp.columns = x.columns\n",
    "        exponent = temp.mul(x-mu).sum(1)\n",
    "    else:\n",
    "        exponent = temp.dot(x-mu)\n",
    "\n",
    "    return C_norm*np.exp(-0.5*exponent)"
   ]
  },
  {
   "cell_type": "code",
   "execution_count": 16,
   "metadata": {
    "collapsed": true
   },
   "outputs": [],
   "source": [
    "mu = np.array([0,0])\n",
    "x = np.array([0,0])"
   ]
  },
  {
   "cell_type": "markdown",
   "metadata": {},
   "source": [
    "## Covariance matrices proportional to identity"
   ]
  },
  {
   "cell_type": "code",
   "execution_count": 17,
   "metadata": {
    "collapsed": true
   },
   "outputs": [],
   "source": [
    "# Data\n",
    "x = EM_data\n",
    "\n",
    "# Initialization of parameters with K-means\n",
    "centroids, data_labels = kmeans(data=EM_data, nbClusters=K, graph=False)\n",
    "\n",
    "# A posteriori on z given x\n",
    "q = pd.DataFrame(0,index=x.index, columns=range(K))\n",
    "for k in range(K):\n",
    "    q[k] = (data_labels == k).astype(int)\n",
    "\n",
    "# Parameters to estimate\n",
    "mu = pd.DataFrame(index=x.columns, columns=range(K))\n",
    "sigma2 =  pd.Series(index=range(K))\n",
    "pi = pd.Series(index=range(K))\n",
    "for k in range(K):\n",
    "    mu[k] = x.mul(q[k],axis=0).sum()/q[k].sum()\n",
    "    sigma2[k] = ((x-mu[k])**2).sum(1).mul(q[k],axis=0).sum()/q[k].sum()\n",
    "    pi[k] = q[k].sum()/q.sum().sum()\n",
    "    \n",
    "# Set them different from the actual values\n",
    "mu_old = mu+1\n",
    "sigma2_old = sigma2+1\n",
    "pi_old = pi+1"
   ]
  },
  {
   "cell_type": "code",
   "execution_count": 18,
   "metadata": {},
   "outputs": [
    {
     "name": "stdout",
     "output_type": "stream",
     "text": [
      "Iterations : 357\n"
     ]
    }
   ],
   "source": [
    "niter = 0\n",
    "\n",
    "while ((mu_old.equals(mu) == False) | (sigma2_old.equals(sigma2) == False) | (pi_old.equals(pi) == False)):\n",
    "    niter = niter + 1\n",
    "    \n",
    "    mu_old = mu.copy()\n",
    "    sigma2_old = sigma2.copy()\n",
    "    pi_old = pi.copy()\n",
    "    \n",
    "    # Expectation step\n",
    "    denom = pd.Series(0,index=x.index)\n",
    "    for k in range(K):\n",
    "        denom = denom + pi[k]*gauss(x,mu[k],sigma2[k]*np.identity(2),2)\n",
    "        \n",
    "    for k in range(K):\n",
    "        q[k] = pi[k]*gauss(x,mu[k],sigma2[k]*np.identity(2),2)/denom\n",
    "\n",
    "    # Maximization step\n",
    "    for k in range(K):\n",
    "        mu[k] = x.mul(q[k],axis=0).sum()/q[k].sum()\n",
    "        sigma2[k] = 0.5*((x-mu[k])**2).sum(1).mul(q[k],axis=0).sum()/q[k].sum()\n",
    "        pi[k] = q[k].sum()/q.sum().sum()\n",
    "\n",
    "print(\"Iterations :\", niter)"
   ]
  },
  {
   "cell_type": "code",
   "execution_count": 21,
   "metadata": {
    "collapsed": true
   },
   "outputs": [],
   "source": [
    "Sigma = {}\n",
    "for k in range(K):\n",
    "    Sigma[k] = sigma2[k]*np.identity(2)"
   ]
  },
  {
   "cell_type": "code",
   "execution_count": 22,
   "metadata": {
    "scrolled": true
   },
   "outputs": [
    {
     "data": {
      "image/png": "[encoded data removed]",
      "text/plain": [
       "<matplotlib.figure.Figure at 0x1a175f8048>"
      ]
     },
     "metadata": {},
     "output_type": "display_data"
    }
   ],
   "source": [
    "vizualise_ellipses(x, q.idxmax(1), mu, Sigma)"
   ]
  },
  {
   "cell_type": "markdown",
   "metadata": {},
   "source": [
    "Computation of the log-likelihood"
   ]
  },
  {
   "cell_type": "code",
   "execution_count": 23,
   "metadata": {},
   "outputs": [],
   "source": [
    "def log_likelihood(x,z,pi,mu,Sigma):\n",
    "    l = 0\n",
    "    for k in range(K):\n",
    "        l += np.log(gauss(x[z == k],mu[k],Sigma[k],2)).sum() + (z == k).sum()*np.log(pi[k])\n",
    "    return l"
   ]
  },
  {
   "cell_type": "code",
   "execution_count": 24,
   "metadata": {
    "collapsed": true
   },
   "outputs": [],
   "source": [
    "z = q.idxmax(1)"
   ]
  },
  {
   "cell_type": "code",
   "execution_count": 25,
   "metadata": {},
   "outputs": [
    {
     "data": {
      "text/plain": [
       "-2682.018405693731"
      ]
     },
     "execution_count": 25,
     "metadata": {},
     "output_type": "execute_result"
    }
   ],
   "source": [
    "log_likelihood(x,z,pi,mu,Sigma)"
   ]
  },
  {
   "cell_type": "code",
   "execution_count": 26,
   "metadata": {
    "collapsed": true
   },
   "outputs": [],
   "source": [
    "x_test = EM_test\n",
    "q_test = pd.DataFrame(0,index=x_test.index, columns=range(K))\n",
    "\n",
    "denom = pd.Series(0,index=x_test.index)\n",
    "for k in range(K):\n",
    "    denom = denom + pi[k]*gauss(x_test,mu[k],Sigma[k],2)\n",
    "        \n",
    "for k in range(K):\n",
    "    q_test[k] = pi[k]*gauss(x_test,mu[k],Sigma[k],2)/denom\n",
    "\n",
    "z_test = q_test.idxmax(1)"
   ]
  },
  {
   "cell_type": "code",
   "execution_count": 27,
   "metadata": {},
   "outputs": [
    {
     "data": {
      "text/plain": [
       "-2733.3820588882454"
      ]
     },
     "execution_count": 27,
     "metadata": {},
     "output_type": "execute_result"
    }
   ],
   "source": [
    "log_likelihood(x_test,z_test,pi,mu,Sigma)"
   ]
  },
  {
   "cell_type": "markdown",
   "metadata": {},
   "source": [
    "## General case"
   ]
  },
  {
   "cell_type": "code",
   "execution_count": 34,
   "metadata": {},
   "outputs": [
    {
     "name": "stdout",
     "output_type": "stream",
     "text": [
      "Iterations : 220\n"
     ]
    }
   ],
   "source": [
    "# Data\n",
    "x = EM_data\n",
    "\n",
    "# Initialization of parameters with K-means\n",
    "centroids, data_labels = kmeans(data=EM_data, nbClusters=K, graph=False)\n",
    "\n",
    "# A posteriori on z given x\n",
    "q = pd.DataFrame(0,index=x.index, columns=range(K))\n",
    "for k in range(K):\n",
    "    q[k] = (data_labels == k).astype(int)\n",
    "\n",
    "# Parameters to estimate\n",
    "mu = pd.DataFrame(index=x.columns, columns=range(K))\n",
    "Sigma = {}\n",
    "pi = pd.Series(index=range(K))\n",
    "\n",
    "for k in range(K):\n",
    "    mu[k] = x.mul(q[k],axis=0).sum()/q[k].sum()\n",
    "    Sigma[k] = (x - mu[k]).mul(q[k],axis=0).T.dot((x - mu[k]))/q[k].sum()\n",
    "    pi[k] = q[k].sum()/q.sum().sum()\n",
    "Sigma = pd.Series(Sigma)\n",
    "    \n",
    "mu_old = mu+1\n",
    "pi_old = pi+1\n",
    "Sigma_old = Sigma\n",
    "\n",
    "niter = 0\n",
    "\n",
    "while ((mu_old.equals(mu) == False) | (pi_old.equals(pi) == False)):\n",
    "    niter = niter+1\n",
    "    \n",
    "    mu_old = mu.copy()\n",
    "    Sigma_old = Sigma.copy()\n",
    "    pi_old = pi.copy()\n",
    "    \n",
    "    # Expectation step\n",
    "    denom = pd.Series(0,index=x.index)\n",
    "    for k in range(K):\n",
    "        denom = denom + pi[k]*gauss(x,mu[k],Sigma[k],2)\n",
    "        \n",
    "    for k in range(K):\n",
    "        q[k] = pi[k]*gauss(x,mu[k],Sigma[k],2)/denom\n",
    "        \n",
    "    # Maximization step\n",
    "    for k in range(K):\n",
    "        mu[k] = x.mul(q[k],axis=0).sum()/q[k].sum()\n",
    "        Sigma[k] = (x - mu[k]).mul(q[k],axis=0).T.dot((x - mu[k]))/q[k].sum()\n",
    "        pi[k] = q[k].sum()/q.sum().sum()\n",
    "        \n",
    "print(\"Iterations :\", niter)"
   ]
  },
  {
   "cell_type": "code",
   "execution_count": 35,
   "metadata": {
    "scrolled": true
   },
   "outputs": [
    {
     "data": {
      "image/png": "[encoded data removed]",
      "text/plain": [
       "<matplotlib.figure.Figure at 0x1a17a246d8>"
      ]
     },
     "metadata": {},
     "output_type": "display_data"
    }
   ],
   "source": [
    "vizualise_ellipses(x, q.idxmax(1), mu, Sigma)"
   ]
  },
  {
   "cell_type": "markdown",
   "metadata": {},
   "source": [
    "Compute the likelihood"
   ]
  },
  {
   "cell_type": "code",
   "execution_count": 39,
   "metadata": {
    "collapsed": true
   },
   "outputs": [],
   "source": [
    "z = q.idxmax(1)"
   ]
  },
  {
   "cell_type": "code",
   "execution_count": 40,
   "metadata": {
    "collapsed": true
   },
   "outputs": [],
   "source": [
    "x_test = EM_test\n",
    "q_test = pd.DataFrame(0,index=x_test.index, columns=range(K))\n",
    "\n",
    "denom = pd.Series(0,index=x_test.index)\n",
    "for k in range(K):\n",
    "    denom = denom + pi[k]*gauss(x_test,mu[k],Sigma[k],2)\n",
    "        \n",
    "for k in range(K):\n",
    "    q_test[k] = pi[k]*gauss(x_test,mu[k],Sigma[k],2)/denom\n",
    "\n",
    "z_test = q_test.idxmax(1)"
   ]
  },
  {
   "cell_type": "code",
   "execution_count": 41,
   "metadata": {},
   "outputs": [
    {
     "data": {
      "text/plain": [
       "-2345.772138218651"
      ]
     },
     "execution_count": 41,
     "metadata": {},
     "output_type": "execute_result"
    }
   ],
   "source": [
    "log_likelihood(x,z,pi,mu,Sigma)"
   ]
  },
  {
   "cell_type": "code",
   "execution_count": 42,
   "metadata": {},
   "outputs": [
    {
     "data": {
      "text/plain": [
       "-2426.8234777657012"
      ]
     },
     "execution_count": 42,
     "metadata": {},
     "output_type": "execute_result"
    }
   ],
   "source": [
    "log_likelihood(x_test,z_test,pi,mu,Sigma)"
   ]
  }
 ],
 "metadata": {
  "kernelspec": {
   "display_name": "Python 3",
   "language": "python",
   "name": "python3"
  }
 },
 "nbformat": 4,
 "nbformat_minor": 2
}
